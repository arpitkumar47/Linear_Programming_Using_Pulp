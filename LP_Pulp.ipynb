{
 "cells": [
  {
   "cell_type": "code",
   "execution_count": 1,
   "metadata": {},
   "outputs": [],
   "source": [
    "# Linear Programming"
   ]
  },
  {
   "cell_type": "code",
   "execution_count": 2,
   "metadata": {},
   "outputs": [],
   "source": [
    "# decision variables \n",
    "# objective function\n",
    "# constraints"
   ]
  },
  {
   "cell_type": "code",
   "execution_count": 3,
   "metadata": {},
   "outputs": [],
   "source": [
    "# Step 1 : Define objective variables\n",
    "# Step 2 : Create objective function\n",
    "# Step 3 : Define Constraints"
   ]
  },
  {
   "cell_type": "markdown",
   "metadata": {},
   "source": [
    "Example:\n",
    "    Maximize z = 5x + 10y\n",
    "    subject to:\n",
    "        x + 2y <=120\n",
    "        x + y >=60\n",
    "        x - 2y >=0"
   ]
  },
  {
   "cell_type": "code",
   "execution_count": 1,
   "metadata": {},
   "outputs": [],
   "source": [
    "import pulp\n",
    "from pulp import *"
   ]
  },
  {
   "cell_type": "code",
   "execution_count": 2,
   "metadata": {
    "tags": []
   },
   "outputs": [
    {
     "data": {
      "text/plain": [
       "['FixedElasticSubProblem',\n",
       " 'FractionElasticSubProblem',\n",
       " 'Iterable',\n",
       " 'LpAffineExpression',\n",
       " 'LpConstraint',\n",
       " 'LpConstraintVar',\n",
       " 'LpElement',\n",
       " 'LpFractionConstraint',\n",
       " 'LpProblem',\n",
       " 'LpSolverDefault',\n",
       " 'LpVariable',\n",
       " 'OrderedDict',\n",
       " 'PULP_CBC_CMD',\n",
       " '_DICT_TYPE',\n",
       " '__builtins__',\n",
       " '__cached__',\n",
       " '__doc__',\n",
       " '__file__',\n",
       " '__loader__',\n",
       " '__name__',\n",
       " '__package__',\n",
       " '__spec__',\n",
       " 'clock',\n",
       " 'const',\n",
       " 'json',\n",
       " 'log',\n",
       " 'logging',\n",
       " 'lpDot',\n",
       " 'lpSum',\n",
       " 'maketrans',\n",
       " 'mpslp',\n",
       " 're',\n",
       " 'sys',\n",
       " 'time',\n",
       " 'value',\n",
       " 'warnings']"
      ]
     },
     "execution_count": 2,
     "metadata": {},
     "output_type": "execute_result"
    }
   ],
   "source": [
    "dir(pulp)"
   ]
  },
  {
   "cell_type": "code",
   "execution_count": 3,
   "metadata": {
    "tags": []
   },
   "outputs": [
    {
     "name": "stderr",
     "output_type": "stream",
     "text": [
      "ssssssssssssssssssssssssssssssssssssssssssssssssssssssssssssssssssssssssssssssssssssssssssssssssssssssssssssssssssssssssssssssssssssssssssssssssssssssssssssssssssssssssssssssssssssssssssssssssssssssssssssssssssssssssssssssssssssssssssssssssssssssssssssssssssssssssssssssssssssssssssssssssssssssssssssssssssssssssssssssssssssssssssssssssssssssssssssssssssssssssssssssssssssssssssssssssssssssssssssssssssssssssssssssssssssssssssssssssssssssssssssssssssssssssssssssssssssssssssssssssssssssssssssssssssssssssssssssssssssssssssssssssss."
     ]
    },
    {
     "name": "stdout",
     "output_type": "stream",
     "text": [
      "\t Testing invalid status\n",
      "\t Testing continuous LP solution - export dict\n"
     ]
    },
    {
     "name": "stderr",
     "output_type": "stream",
     "text": [
      "................"
     ]
    },
    {
     "name": "stdout",
     "output_type": "stream",
     "text": [
      "\t Testing export dict for LP\n",
      "\t Testing export dict MIP\n",
      "\t Testing maximize continuous LP solution\n",
      "\t Testing continuous LP solution - export JSON\n",
      "\t Testing continuous LP solution - export solver dict\n",
      "\t Testing continuous LP solution - export solver JSON\n",
      "\t Testing reading MPS files - binary variable, no constraint names\n",
      "\t Testing reading MPS files - integer variable\n",
      "\t Testing reading MPS files - maximize\n",
      "\t Testing invalid var names\n",
      "\t Testing logPath argument\n",
      "\t Testing makeDict general behavior\n",
      "\t Testing makeDict default value behavior\n",
      "\t Testing measuring optimization time\n"
     ]
    },
    {
     "name": "stderr",
     "output_type": "stream",
     "text": [
      "................."
     ]
    },
    {
     "name": "stdout",
     "output_type": "stream",
     "text": [
      "\t Testing the availability of the function pulpTestAll\n",
      "\t Testing zero subtraction\n",
      "\t Testing inconsistent lp solution\n",
      "\t Testing continuous LP solution\n",
      "\t Testing maximize continuous LP solution\n",
      "\t Testing unbounded continuous LP solution\n",
      "\t Testing Long Names\n",
      "\t Testing repeated Names\n",
      "\t Testing zero constraint\n",
      "\t Testing zero objective\n",
      "\t Testing LpVariable (not LpAffineExpression) objective\n",
      "\t Testing Long lines in LP\n",
      "\t Testing LpAffineExpression divide\n",
      "\t Testing MIP solution\n",
      "\t Testing MIP solution with floats in objective\n",
      "\t Testing Initial value in MIP solution\n",
      "\t Testing fixing value in MIP solution\n"
     ]
    },
    {
     "name": "stderr",
     "output_type": "stream",
     "text": [
      ".................."
     ]
    },
    {
     "name": "stdout",
     "output_type": "stream",
     "text": [
      "\t Testing MIP relaxation\n",
      "\t Testing feasibility problem (no objective)\n",
      "\t Testing an infeasible problem\n",
      "\t Testing an integer infeasible problem\n",
      "\t Testing another integer infeasible problem\n",
      "\t Testing column based modelling\n",
      "\t Testing dual variables and slacks reporting\n",
      "\t Testing fractional constraints\n",
      "\t Testing elastic constraints (no change)\n",
      "\t Testing elastic constraints (freebound)\n",
      "\t Testing elastic constraints (penalty unchanged)\n",
      "\t Testing elastic constraints (penalty unbounded)\n",
      "\t Testing timeLimit argument\n"
     ]
    },
    {
     "name": "stderr",
     "output_type": "stream",
     "text": [
      ".."
     ]
    },
    {
     "name": "stdout",
     "output_type": "stream",
     "text": [
      "\t Testing invalid status\n",
      "\t Testing continuous LP solution - export dict\n"
     ]
    },
    {
     "name": "stderr",
     "output_type": "stream",
     "text": [
      "."
     ]
    },
    {
     "name": "stdout",
     "output_type": "stream",
     "text": [
      "\t Testing export dict for LP\n"
     ]
    },
    {
     "name": "stderr",
     "output_type": "stream",
     "text": [
      "."
     ]
    },
    {
     "name": "stdout",
     "output_type": "stream",
     "text": [
      "\t Testing export dict MIP\n"
     ]
    },
    {
     "name": "stderr",
     "output_type": "stream",
     "text": [
      "."
     ]
    },
    {
     "name": "stdout",
     "output_type": "stream",
     "text": [
      "\t Testing maximize continuous LP solution\n"
     ]
    },
    {
     "name": "stderr",
     "output_type": "stream",
     "text": [
      "."
     ]
    },
    {
     "name": "stdout",
     "output_type": "stream",
     "text": [
      "\t Testing continuous LP solution - export JSON\n"
     ]
    },
    {
     "name": "stderr",
     "output_type": "stream",
     "text": [
      "."
     ]
    },
    {
     "name": "stdout",
     "output_type": "stream",
     "text": [
      "\t Testing continuous LP solution - export solver dict\n"
     ]
    },
    {
     "name": "stderr",
     "output_type": "stream",
     "text": [
      "."
     ]
    },
    {
     "name": "stdout",
     "output_type": "stream",
     "text": [
      "\t Testing continuous LP solution - export solver JSON\n"
     ]
    },
    {
     "name": "stderr",
     "output_type": "stream",
     "text": [
      "....."
     ]
    },
    {
     "name": "stdout",
     "output_type": "stream",
     "text": [
      "\t Testing reading MPS files - binary variable, no constraint names\n",
      "\t Testing reading MPS files - integer variable\n",
      "\t Testing reading MPS files - maximize\n"
     ]
    },
    {
     "name": "stderr",
     "output_type": "stream",
     "text": [
      "."
     ]
    },
    {
     "name": "stdout",
     "output_type": "stream",
     "text": [
      "\t Testing invalid var names\n"
     ]
    },
    {
     "name": "stderr",
     "output_type": "stream",
     "text": [
      "........"
     ]
    },
    {
     "name": "stdout",
     "output_type": "stream",
     "text": [
      "\t Testing makeDict general behavior\n",
      "\t Testing makeDict default value behavior\n",
      "\t Testing measuring optimization time\n",
      "\t Testing the availability of the function pulpTestAll\n",
      "\t Testing zero subtraction\n",
      "\t Testing inconsistent lp solution\n",
      "\t Testing continuous LP solution\n"
     ]
    },
    {
     "name": "stderr",
     "output_type": "stream",
     "text": [
      "."
     ]
    },
    {
     "name": "stdout",
     "output_type": "stream",
     "text": [
      "\t Testing maximize continuous LP solution\n"
     ]
    },
    {
     "name": "stderr",
     "output_type": "stream",
     "text": [
      ".."
     ]
    },
    {
     "name": "stdout",
     "output_type": "stream",
     "text": [
      "\t Testing unbounded continuous LP solution\n",
      "\t Testing Long Names\n"
     ]
    },
    {
     "name": "stderr",
     "output_type": "stream",
     "text": [
      ".."
     ]
    },
    {
     "name": "stdout",
     "output_type": "stream",
     "text": [
      "\t Testing repeated Names\n",
      "\t Testing zero constraint\n"
     ]
    },
    {
     "name": "stderr",
     "output_type": "stream",
     "text": [
      "."
     ]
    },
    {
     "name": "stdout",
     "output_type": "stream",
     "text": [
      "\t Testing zero objective\n"
     ]
    },
    {
     "name": "stderr",
     "output_type": "stream",
     "text": [
      "."
     ]
    },
    {
     "name": "stdout",
     "output_type": "stream",
     "text": [
      "\t Testing LpVariable (not LpAffineExpression) objective\n"
     ]
    },
    {
     "name": "stderr",
     "output_type": "stream",
     "text": [
      ".."
     ]
    },
    {
     "name": "stdout",
     "output_type": "stream",
     "text": [
      "\t Testing LpAffineExpression divide\n"
     ]
    },
    {
     "name": "stderr",
     "output_type": "stream",
     "text": [
      "."
     ]
    },
    {
     "name": "stdout",
     "output_type": "stream",
     "text": [
      "\t Testing MIP solution\n"
     ]
    },
    {
     "name": "stderr",
     "output_type": "stream",
     "text": [
      "."
     ]
    },
    {
     "name": "stdout",
     "output_type": "stream",
     "text": [
      "\t Testing MIP solution with floats in objective\n"
     ]
    },
    {
     "name": "stderr",
     "output_type": "stream",
     "text": [
      "."
     ]
    },
    {
     "name": "stdout",
     "output_type": "stream",
     "text": [
      "\t Testing Initial value in MIP solution\n"
     ]
    },
    {
     "name": "stderr",
     "output_type": "stream",
     "text": [
      "."
     ]
    },
    {
     "name": "stdout",
     "output_type": "stream",
     "text": [
      "\t Testing fixing value in MIP solution\n"
     ]
    },
    {
     "name": "stderr",
     "output_type": "stream",
     "text": [
      "./Users/a0k00qb/opt/miniconda3/lib/python3.8/site-packages/pulp/apis/choco_api.py:101: UserWarning: CHOCO_CMD cannot solve the relaxation of a problem\n",
      "  warnings.warn(\"CHOCO_CMD cannot solve the relaxation of a problem\")\n"
     ]
    },
    {
     "name": "stdout",
     "output_type": "stream",
     "text": [
      "\t Testing MIP relaxation\n"
     ]
    },
    {
     "name": "stderr",
     "output_type": "stream",
     "text": [
      "."
     ]
    },
    {
     "name": "stdout",
     "output_type": "stream",
     "text": [
      "\t Testing feasibility problem (no objective)\n"
     ]
    },
    {
     "name": "stderr",
     "output_type": "stream",
     "text": [
      "."
     ]
    },
    {
     "name": "stdout",
     "output_type": "stream",
     "text": [
      "\t Testing an infeasible problem\n"
     ]
    },
    {
     "name": "stderr",
     "output_type": "stream",
     "text": [
      "."
     ]
    },
    {
     "name": "stdout",
     "output_type": "stream",
     "text": [
      "\t Testing an integer infeasible problem\n"
     ]
    },
    {
     "name": "stderr",
     "output_type": "stream",
     "text": [
      "."
     ]
    },
    {
     "name": "stdout",
     "output_type": "stream",
     "text": [
      "\t Testing another integer infeasible problem\n"
     ]
    },
    {
     "name": "stderr",
     "output_type": "stream",
     "text": [
      "."
     ]
    },
    {
     "name": "stdout",
     "output_type": "stream",
     "text": [
      "\t Testing column based modelling\n"
     ]
    },
    {
     "name": "stderr",
     "output_type": "stream",
     "text": [
      "....."
     ]
    },
    {
     "name": "stdout",
     "output_type": "stream",
     "text": [
      "\t Testing fractional constraints\n"
     ]
    },
    {
     "name": "stderr",
     "output_type": "stream",
     "text": [
      "."
     ]
    },
    {
     "name": "stdout",
     "output_type": "stream",
     "text": [
      "\t Testing elastic constraints (no change)\n"
     ]
    },
    {
     "name": "stderr",
     "output_type": "stream",
     "text": [
      "."
     ]
    },
    {
     "name": "stdout",
     "output_type": "stream",
     "text": [
      "\t Testing elastic constraints (freebound)\n"
     ]
    },
    {
     "name": "stderr",
     "output_type": "stream",
     "text": [
      "."
     ]
    },
    {
     "name": "stdout",
     "output_type": "stream",
     "text": [
      "\t Testing elastic constraints (penalty unchanged)\n"
     ]
    },
    {
     "name": "stderr",
     "output_type": "stream",
     "text": [
      "...."
     ]
    },
    {
     "name": "stdout",
     "output_type": "stream",
     "text": [
      "\t Testing elastic constraints (penalty unbounded)\n",
      "\t Testing timeLimit argument\n"
     ]
    },
    {
     "name": "stderr",
     "output_type": "stream",
     "text": [
      ".ssssssssssssssssssssssssssssssssssssssssssssssssssssssssssssssssssssssssssssssssssssssssssssssssssssssssssssssssssssssssssssssssssssssssssssssssssssssssssssssssssssssssssssssssssssssssssssssssssssssssssssssssssss\n",
      "----------------------------------------------------------------------\n",
      "Ran 848 tests in 37.708s\n",
      "\n",
      "OK (skipped=742)\n"
     ]
    }
   ],
   "source": [
    "import pulp\n",
    "pulp.pulpTestAll()"
   ]
  },
  {
   "cell_type": "code",
   "execution_count": 4,
   "metadata": {
    "tags": []
   },
   "outputs": [
    {
     "data": {
      "text/plain": [
       "['CHOCO_CMD',\n",
       " 'COIN',\n",
       " 'COINMP_DLL',\n",
       " 'COINMP_DLL_load_dll',\n",
       " 'COIN_CMD',\n",
       " 'CPLEX',\n",
       " 'CPLEX_CMD',\n",
       " 'CPLEX_PY',\n",
       " 'DIRNAME',\n",
       " 'EPS',\n",
       " 'FixedElasticSubProblem',\n",
       " 'FractionElasticSubProblem',\n",
       " 'GLPK',\n",
       " 'GLPK_CMD',\n",
       " 'GUROBI',\n",
       " 'GUROBI_CMD',\n",
       " 'Iterable',\n",
       " 'LpAffineExpression',\n",
       " 'LpBinary',\n",
       " 'LpCategories',\n",
       " 'LpConstraint',\n",
       " 'LpConstraintEQ',\n",
       " 'LpConstraintGE',\n",
       " 'LpConstraintLE',\n",
       " 'LpConstraintSenses',\n",
       " 'LpConstraintTypeToMps',\n",
       " 'LpConstraintVar',\n",
       " 'LpContinuous',\n",
       " 'LpCplexLPLineSize',\n",
       " 'LpElement',\n",
       " 'LpFractionConstraint',\n",
       " 'LpInteger',\n",
       " 'LpMaximize',\n",
       " 'LpMinimize',\n",
       " 'LpProblem',\n",
       " 'LpSenses',\n",
       " 'LpSolution',\n",
       " 'LpSolutionInfeasible',\n",
       " 'LpSolutionIntegerFeasible',\n",
       " 'LpSolutionNoSolutionFound',\n",
       " 'LpSolutionOptimal',\n",
       " 'LpSolutionUnbounded',\n",
       " 'LpSolver',\n",
       " 'LpSolverDefault',\n",
       " 'LpSolver_CMD',\n",
       " 'LpStatus',\n",
       " 'LpStatusInfeasible',\n",
       " 'LpStatusNotSolved',\n",
       " 'LpStatusOptimal',\n",
       " 'LpStatusToSolution',\n",
       " 'LpStatusUnbounded',\n",
       " 'LpStatusUndefined',\n",
       " 'LpVariable',\n",
       " 'MIPCL_CMD',\n",
       " 'MOSEK',\n",
       " 'OrderedDict',\n",
       " 'PULPCFGFILE',\n",
       " 'PULP_CBC_CMD',\n",
       " 'PULP_CHOCO_CMD',\n",
       " 'PYGLPK',\n",
       " 'Parser',\n",
       " 'PulpError',\n",
       " 'PulpSolverError',\n",
       " 'SCIP',\n",
       " 'SCIP_CMD',\n",
       " 'VERSION',\n",
       " 'XPRESS',\n",
       " 'YAPOSIB',\n",
       " '__builtins__',\n",
       " '__cached__',\n",
       " '__doc__',\n",
       " '__file__',\n",
       " '__loader__',\n",
       " '__name__',\n",
       " '__package__',\n",
       " '__path__',\n",
       " '__spec__',\n",
       " '__version__',\n",
       " 'allcombinations',\n",
       " 'allpermutations',\n",
       " 'apis',\n",
       " 'arch',\n",
       " 'cbc_path',\n",
       " 'choco_api',\n",
       " 'clock',\n",
       " 'coinMP_path',\n",
       " 'coin_api',\n",
       " 'collections',\n",
       " 'combination',\n",
       " 'configSolvers',\n",
       " 'config_filename',\n",
       " 'configparser',\n",
       " 'const',\n",
       " 'constants',\n",
       " 'core',\n",
       " 'cplex_api',\n",
       " 'cplex_dll_path',\n",
       " 'ctypes',\n",
       " 'ctypesArrayFill',\n",
       " 'devnull',\n",
       " 'getSolver',\n",
       " 'getSolverFromDict',\n",
       " 'getSolverFromJson',\n",
       " 'get_solver',\n",
       " 'get_solver_from_dict',\n",
       " 'get_solver_from_json',\n",
       " 'glpk',\n",
       " 'glpk_api',\n",
       " 'glpk_path',\n",
       " 'gurobi_api',\n",
       " 'gurobi_path',\n",
       " 'gurobipy',\n",
       " 'ilm_cplex_license',\n",
       " 'ilm_cplex_license_signature',\n",
       " 'initialize',\n",
       " 'io',\n",
       " 'isNumber',\n",
       " 'is_64bits',\n",
       " 'isiterable',\n",
       " 'itertools',\n",
       " 'json',\n",
       " 'listSolvers',\n",
       " 'list_solvers',\n",
       " 'log',\n",
       " 'logging',\n",
       " 'lpDot',\n",
       " 'lpSum',\n",
       " 'makeDict',\n",
       " 'maketrans',\n",
       " 'mipcl_api',\n",
       " 'mktemp',\n",
       " 'mosek_api',\n",
       " 'mps_lp',\n",
       " 'mpslp',\n",
       " 'operating_system',\n",
       " 'os',\n",
       " 'permutation',\n",
       " 'pulp',\n",
       " 'pulpTestAll',\n",
       " 'pulp_cbc_path',\n",
       " 'pulp_choco_path',\n",
       " 're',\n",
       " 'read_table',\n",
       " 'resource_clock',\n",
       " 'scip_api',\n",
       " 'scip_path',\n",
       " 'setConfigInformation',\n",
       " 'sparse',\n",
       " 'splitDict',\n",
       " 'subprocess',\n",
       " 'sys',\n",
       " 'tests',\n",
       " 'time',\n",
       " 'to_string',\n",
       " 'utilities',\n",
       " 'uuid4',\n",
       " 'value',\n",
       " 'valueOrDefault',\n",
       " 'warnings',\n",
       " 'xpress_api',\n",
       " 'yaposib']"
      ]
     },
     "execution_count": 4,
     "metadata": {},
     "output_type": "execute_result"
    }
   ],
   "source": [
    "dir(pulp)"
   ]
  },
  {
   "cell_type": "code",
   "execution_count": 5,
   "metadata": {},
   "outputs": [],
   "source": [
    "# Define variables:\n",
    "x = pulp.LpVariable(\"x\", lowBound=0)\n",
    "y = pulp.LpVariable(\"y\", lowBound=0)"
   ]
  },
  {
   "cell_type": "code",
   "execution_count": 8,
   "metadata": {},
   "outputs": [],
   "source": [
    "# Objective Function\n",
    "max_z = pulp.LpProblem(\"Maximize_Z\", pulp.LpMaximize)"
   ]
  },
  {
   "cell_type": "code",
   "execution_count": 9,
   "metadata": {},
   "outputs": [],
   "source": [
    "max_z += 5*x + 10*y"
   ]
  },
  {
   "cell_type": "code",
   "execution_count": 10,
   "metadata": {},
   "outputs": [],
   "source": [
    "# Define Constraints\n",
    "max_z += x + 2*y <=120\n",
    "\n",
    "max_z += x + y >=60\n",
    "\n",
    "max_z += x - 2*y >=0"
   ]
  },
  {
   "cell_type": "code",
   "execution_count": 11,
   "metadata": {},
   "outputs": [
    {
     "name": "stdout",
     "output_type": "stream",
     "text": [
      "Maximize_Z:\n",
      "MAXIMIZE\n",
      "5*x + 10*y + 0\n",
      "SUBJECT TO\n",
      "_C1: x + 2 y <= 120\n",
      "\n",
      "_C2: x + y >= 60\n",
      "\n",
      "_C3: x - 2 y >= 0\n",
      "\n",
      "VARIABLES\n",
      "x Continuous\n",
      "y Continuous\n",
      "\n"
     ]
    }
   ],
   "source": [
    "# Preview\n",
    "print(max_z)"
   ]
  },
  {
   "cell_type": "code",
   "execution_count": 13,
   "metadata": {},
   "outputs": [
    {
     "data": {
      "text/plain": [
       "'Not Solved'"
      ]
     },
     "execution_count": 13,
     "metadata": {},
     "output_type": "execute_result"
    }
   ],
   "source": [
    "# check for status\n",
    "pulp.LpStatus[max_z.status]"
   ]
  },
  {
   "cell_type": "code",
   "execution_count": 14,
   "metadata": {},
   "outputs": [
    {
     "name": "stdout",
     "output_type": "stream",
     "text": [
      "Welcome to the CBC MILP Solver \n",
      "Version: 2.10.3 \n",
      "Build Date: Dec 15 2019 \n",
      "\n",
      "command line - /Users/a0k00qb/opt/miniconda3/lib/python3.8/site-packages/pulp/apis/../solverdir/cbc/osx/64/cbc /var/folders/kj/t0cqtl5d6bq_klpskm5q26_m0000gp/T/b099d5c9447b4b29a1e7c19d974da4b4-pulp.mps max timeMode elapsed branch printingOptions all solution /var/folders/kj/t0cqtl5d6bq_klpskm5q26_m0000gp/T/b099d5c9447b4b29a1e7c19d974da4b4-pulp.sol (default strategy 1)\n",
      "At line 2 NAME          MODEL\n",
      "At line 3 ROWS\n",
      "At line 8 COLUMNS\n",
      "At line 17 RHS\n",
      "At line 21 BOUNDS\n",
      "At line 22 ENDATA\n",
      "Problem MODEL has 3 rows, 2 columns and 6 elements\n",
      "Coin0008I MODEL read with 0 errors\n",
      "Option for timeMode changed from cpu to elapsed\n",
      "Presolve 0 (-3) rows, 0 (-2) columns and 0 (-6) elements\n",
      "Empty problem - 0 rows, 0 columns and 0 elements\n",
      "Optimal - objective value 600\n",
      "After Postsolve, objective 600, infeasibilities - dual 0 (0), primal 0 (0)\n",
      "Optimal objective 600 - 0 iterations time 0.002, Presolve 0.00\n",
      "Option for printingOptions changed from normal to all\n",
      "Total time (CPU seconds):       0.00   (Wallclock seconds):       0.02\n",
      "\n"
     ]
    },
    {
     "data": {
      "text/plain": [
       "1"
      ]
     },
     "execution_count": 14,
     "metadata": {},
     "output_type": "execute_result"
    }
   ],
   "source": [
    "# Solve\n",
    "max_z.solve()"
   ]
  },
  {
   "cell_type": "code",
   "execution_count": 15,
   "metadata": {},
   "outputs": [
    {
     "data": {
      "text/plain": [
       "'Optimal'"
      ]
     },
     "execution_count": 15,
     "metadata": {},
     "output_type": "execute_result"
    }
   ],
   "source": [
    "pulp.LpStatus[max_z.status]"
   ]
  },
  {
   "cell_type": "code",
   "execution_count": 18,
   "metadata": {},
   "outputs": [
    {
     "name": "stdout",
     "output_type": "stream",
     "text": [
      "x -->  60.0\n",
      "y -->  30.0\n"
     ]
    }
   ],
   "source": [
    "# get values\n",
    "print(\"x --> \", x.varValue)\n",
    "print(\"y --> \", y.varValue)"
   ]
  },
  {
   "cell_type": "code",
   "execution_count": 20,
   "metadata": {},
   "outputs": [
    {
     "name": "stdout",
     "output_type": "stream",
     "text": [
      "x ==> 60.0\n",
      "y ==> 30.0\n"
     ]
    }
   ],
   "source": [
    "# Method 2\n",
    "for var in max_z.variables():\n",
    "    print(var.name,\"==>\",var.varValue)"
   ]
  },
  {
   "cell_type": "code",
   "execution_count": 21,
   "metadata": {},
   "outputs": [
    {
     "data": {
      "text/plain": [
       "600.0"
      ]
     },
     "execution_count": 21,
     "metadata": {},
     "output_type": "execute_result"
    }
   ],
   "source": [
    "# optimal value\n",
    "pulp.value(max_z.objective)"
   ]
  },
  {
   "cell_type": "markdown",
   "metadata": {},
   "source": [
    "# problem 2\n",
    " maximize 5x1 + 6x2\n",
    "    subject to:\n",
    "        x1+x2 <=10\n",
    "        x1 -x2 >=3\n",
    "        5x1 + 4x2 <=35\n",
    "        x1>=0\n",
    "        x2>=0\n",
    "        x1 & x2 are integers"
   ]
  },
  {
   "cell_type": "code",
   "execution_count": 29,
   "metadata": {},
   "outputs": [],
   "source": [
    "# Define variables\n",
    "\n",
    "x1 = pulp.LpVariable(\"x1\", lowBound=0, cat = \"Integer\")\n",
    "x2 = pulp.LpVariable(\"x2\", lowBound=0, cat = \"Integer\")"
   ]
  },
  {
   "cell_type": "code",
   "execution_count": 30,
   "metadata": {},
   "outputs": [],
   "source": [
    "# Objectove function\n",
    "\n",
    "max_y = pulp.LpProblem(\"Maximize_Y\", pulp.LpMaximize)\n",
    "max_y += 5*x1 + 6*x2"
   ]
  },
  {
   "cell_type": "code",
   "execution_count": 31,
   "metadata": {},
   "outputs": [],
   "source": [
    "# Define constraints:\n",
    "max_y += x1 + x2 <= 10\n",
    "\n",
    "max_y += x1 - x2 >= 3\n",
    "\n",
    "max_y += 5*x1 + 4*x2 <= 35"
   ]
  },
  {
   "cell_type": "code",
   "execution_count": 32,
   "metadata": {
    "collapsed": true,
    "jupyter": {
     "outputs_hidden": true
    },
    "tags": []
   },
   "outputs": [
    {
     "name": "stdout",
     "output_type": "stream",
     "text": [
      "Welcome to the CBC MILP Solver \n",
      "Version: 2.10.3 \n",
      "Build Date: Dec 15 2019 \n",
      "\n",
      "command line - /Users/a0k00qb/opt/miniconda3/lib/python3.8/site-packages/pulp/apis/../solverdir/cbc/osx/64/cbc /var/folders/kj/t0cqtl5d6bq_klpskm5q26_m0000gp/T/9fc29066300f4aa68c4a0903788b8e17-pulp.mps max timeMode elapsed branch printingOptions all solution /var/folders/kj/t0cqtl5d6bq_klpskm5q26_m0000gp/T/9fc29066300f4aa68c4a0903788b8e17-pulp.sol (default strategy 1)\n",
      "At line 2 NAME          MODEL\n",
      "At line 3 ROWS\n",
      "At line 8 COLUMNS\n",
      "At line 21 RHS\n",
      "At line 25 BOUNDS\n",
      "At line 28 ENDATA\n",
      "Problem MODEL has 3 rows, 2 columns and 6 elements\n",
      "Coin0008I MODEL read with 0 errors\n",
      "Option for timeMode changed from cpu to elapsed\n",
      "Continuous objective value is 39.4444 - 0.00 seconds\n",
      "Cgl0003I 0 fixed, 1 tightened bounds, 0 strengthened rows, 0 substitutions\n",
      "Cgl0004I processed model has 2 rows, 2 columns (2 integer (0 of which binary)) and 4 elements\n",
      "Cutoff increment increased from 1e-05 to 0.9999\n",
      "Cbc0012I Integer solution of -37 found by DiveCoefficient after 0 iterations and 0 nodes (0.00 seconds)\n",
      "Cbc0006I The LP relaxation is infeasible or too expensive\n",
      "Cbc0013I At root node, 0 cuts changed objective from -39.444444 to -39.444444 in 1 passes\n",
      "Cbc0014I Cut generator 0 (Probing) - 0 row cuts average 0.0 elements, 2 column cuts (2 active)  in 0.000 seconds - new frequency is 1\n",
      "Cbc0014I Cut generator 1 (Gomory) - 0 row cuts average 0.0 elements, 0 column cuts (0 active)  in 0.000 seconds - new frequency is -100\n",
      "Cbc0014I Cut generator 2 (Knapsack) - 0 row cuts average 0.0 elements, 0 column cuts (0 active)  in 0.000 seconds - new frequency is -100\n",
      "Cbc0014I Cut generator 3 (Clique) - 0 row cuts average 0.0 elements, 0 column cuts (0 active)  in 0.000 seconds - new frequency is -100\n",
      "Cbc0014I Cut generator 4 (MixedIntegerRounding2) - 0 row cuts average 0.0 elements, 0 column cuts (0 active)  in 0.000 seconds - new frequency is -100\n",
      "Cbc0014I Cut generator 5 (FlowCover) - 0 row cuts average 0.0 elements, 0 column cuts (0 active)  in 0.000 seconds - new frequency is -100\n",
      "Cbc0014I Cut generator 6 (TwoMirCuts) - 0 row cuts average 0.0 elements, 0 column cuts (0 active)  in 0.000 seconds - new frequency is -100\n",
      "Cbc0014I Cut generator 7 (ZeroHalf) - 0 row cuts average 0.0 elements, 0 column cuts (0 active)  in 0.000 seconds - new frequency is -100\n",
      "Cbc0001I Search completed - best objective -37, took 0 iterations and 0 nodes (0.00 seconds)\n",
      "Cbc0035I Maximum depth 0, 0 variables fixed on reduced cost\n",
      "Cuts at root node changed objective from -39.4444 to -39.4444\n",
      "Probing was tried 1 times and created 2 cuts of which 0 were active after adding rounds of cuts (0.000 seconds)\n",
      "Gomory was tried 0 times and created 0 cuts of which 0 were active after adding rounds of cuts (0.000 seconds)\n",
      "Knapsack was tried 0 times and created 0 cuts of which 0 were active after adding rounds of cuts (0.000 seconds)\n",
      "Clique was tried 0 times and created 0 cuts of which 0 were active after adding rounds of cuts (0.000 seconds)\n",
      "MixedIntegerRounding2 was tried 0 times and created 0 cuts of which 0 were active after adding rounds of cuts (0.000 seconds)\n",
      "FlowCover was tried 0 times and created 0 cuts of which 0 were active after adding rounds of cuts (0.000 seconds)\n",
      "TwoMirCuts was tried 0 times and created 0 cuts of which 0 were active after adding rounds of cuts (0.000 seconds)\n",
      "ZeroHalf was tried 0 times and created 0 cuts of which 0 were active after adding rounds of cuts (0.000 seconds)\n",
      "\n",
      "Result - Optimal solution found\n",
      "\n",
      "Objective value:                37.00000000\n",
      "Enumerated nodes:               0\n",
      "Total iterations:               0\n",
      "Time (CPU seconds):             0.00\n",
      "Time (Wallclock seconds):       0.00\n",
      "\n",
      "Option for printingOptions changed from normal to all\n",
      "Total time (CPU seconds):       0.00   (Wallclock seconds):       0.00\n",
      "\n"
     ]
    },
    {
     "data": {
      "text/plain": [
       "1"
      ]
     },
     "execution_count": 32,
     "metadata": {},
     "output_type": "execute_result"
    }
   ],
   "source": [
    "# Solve\n",
    "\n",
    "max_y.solve()"
   ]
  },
  {
   "cell_type": "code",
   "execution_count": 33,
   "metadata": {},
   "outputs": [
    {
     "name": "stdout",
     "output_type": "stream",
     "text": [
      "x1 ==> 5.0\n",
      "x2 ==> 2.0\n"
     ]
    }
   ],
   "source": [
    "# Get variable values\n",
    "for var in max_y.variables():\n",
    "    print(var.name,\"==>\",var.varValue)"
   ]
  },
  {
   "cell_type": "code",
   "execution_count": 34,
   "metadata": {
    "tags": []
   },
   "outputs": [
    {
     "data": {
      "text/plain": [
       "37.0"
      ]
     },
     "execution_count": 34,
     "metadata": {},
     "output_type": "execute_result"
    }
   ],
   "source": [
    "# get optimal value\n",
    "pulp.value(max_y.objective)"
   ]
  },
  {
   "cell_type": "markdown",
   "metadata": {},
   "source": [
    "A company makes two products (X and Y) using two machines (A and B). Each unit of X that is produced requires 50 minutes processing time on machine A and 30 minutes processing time on machine B. Each unit of Y that is produced requires 24 minutes processing time on machine A and 33 minutes processing time on machine B.\n",
    "\n",
    "At the start of the current week there are 30 units of X and 90 units of Y in stock. Available processing time on machine A is forecast to be 40 hours and on machine B is forecast to be 35 hours.\n",
    "\n",
    "The demand for X in the current week is forecast to be 75 units and for Y is forecast to be 95 units. Company policy is to maximise the combined sum of the units of X and the units of Y in stock at the end of the week.\n",
    "\n",
    "Formulate the problem of deciding how much of each product to make in the current week as a linear program. Solve this linear program."
   ]
  },
  {
   "cell_type": "code",
   "execution_count": 35,
   "metadata": {},
   "outputs": [],
   "source": [
    "# define variables:\n",
    "\n",
    "x = pulp.LpVariable(\"x\", lowBound=0, cat = \"Integer\")\n",
    "y = pulp.LpVariable(\"y\", lowBound=0, cat = \"Integer\")"
   ]
  },
  {
   "cell_type": "code",
   "execution_count": 36,
   "metadata": {},
   "outputs": [],
   "source": [
    "# Objectove function\n",
    "\n",
    "max_x_n_y = pulp.LpProblem(\"Maximize_X_n_Y\", pulp.LpMaximize)\n",
    "max_x_n_y += x + y"
   ]
  },
  {
   "cell_type": "code",
   "execution_count": 37,
   "metadata": {},
   "outputs": [],
   "source": [
    "# Define constraints:\n",
    "max_x_n_y += x >= 45\n",
    "\n",
    "max_x_n_y += y >= 5\n",
    "\n",
    "max_x_n_y += 50*x + 24*y <= 40*60\n",
    "\n",
    "max_x_n_y += 30*x + 33*y <= 35*60"
   ]
  },
  {
   "cell_type": "code",
   "execution_count": 38,
   "metadata": {},
   "outputs": [
    {
     "name": "stdout",
     "output_type": "stream",
     "text": [
      "Maximize_X_n_Y:\n",
      "MAXIMIZE\n",
      "1*x + 1*y + 0\n",
      "SUBJECT TO\n",
      "_C1: x >= 45\n",
      "\n",
      "_C2: y >= 5\n",
      "\n",
      "_C3: 50 x + 24 y <= 2400\n",
      "\n",
      "_C4: 30 x + 33 y <= 2100\n",
      "\n",
      "VARIABLES\n",
      "0 <= x Integer\n",
      "0 <= y Integer\n",
      "\n"
     ]
    }
   ],
   "source": [
    "print(max_x_n_y)"
   ]
  },
  {
   "cell_type": "code",
   "execution_count": 39,
   "metadata": {
    "collapsed": true,
    "jupyter": {
     "outputs_hidden": true
    },
    "tags": []
   },
   "outputs": [
    {
     "name": "stdout",
     "output_type": "stream",
     "text": [
      "Welcome to the CBC MILP Solver \n",
      "Version: 2.10.3 \n",
      "Build Date: Dec 15 2019 \n",
      "\n",
      "command line - /Users/a0k00qb/opt/miniconda3/lib/python3.8/site-packages/pulp/apis/../solverdir/cbc/osx/64/cbc /var/folders/kj/t0cqtl5d6bq_klpskm5q26_m0000gp/T/c9694311583b4109987b3fe82193cdc2-pulp.mps max timeMode elapsed branch printingOptions all solution /var/folders/kj/t0cqtl5d6bq_klpskm5q26_m0000gp/T/c9694311583b4109987b3fe82193cdc2-pulp.sol (default strategy 1)\n",
      "At line 2 NAME          MODEL\n",
      "At line 3 ROWS\n",
      "At line 9 COLUMNS\n",
      "At line 22 RHS\n",
      "At line 27 BOUNDS\n",
      "At line 30 ENDATA\n",
      "Problem MODEL has 4 rows, 2 columns and 6 elements\n",
      "Coin0008I MODEL read with 0 errors\n",
      "Option for timeMode changed from cpu to elapsed\n",
      "Continuous objective value is 51.25 - 0.00 seconds\n",
      "Cgl0004I processed model has 0 rows, 0 columns (0 integer (0 of which binary)) and 0 elements\n",
      "Cbc3007W No integer variables - nothing to do\n",
      "Cuts at root node changed objective from -51 to -1.79769e+308\n",
      "Probing was tried 0 times and created 0 cuts of which 0 were active after adding rounds of cuts (0.000 seconds)\n",
      "Gomory was tried 0 times and created 0 cuts of which 0 were active after adding rounds of cuts (0.000 seconds)\n",
      "Knapsack was tried 0 times and created 0 cuts of which 0 were active after adding rounds of cuts (0.000 seconds)\n",
      "Clique was tried 0 times and created 0 cuts of which 0 were active after adding rounds of cuts (0.000 seconds)\n",
      "MixedIntegerRounding2 was tried 0 times and created 0 cuts of which 0 were active after adding rounds of cuts (0.000 seconds)\n",
      "FlowCover was tried 0 times and created 0 cuts of which 0 were active after adding rounds of cuts (0.000 seconds)\n",
      "TwoMirCuts was tried 0 times and created 0 cuts of which 0 were active after adding rounds of cuts (0.000 seconds)\n",
      "ZeroHalf was tried 0 times and created 0 cuts of which 0 were active after adding rounds of cuts (0.000 seconds)\n",
      "\n",
      "Result - Optimal solution found\n",
      "\n",
      "Objective value:                51.00000000\n",
      "Enumerated nodes:               0\n",
      "Total iterations:               1\n",
      "Time (CPU seconds):             0.00\n",
      "Time (Wallclock seconds):       0.00\n",
      "\n",
      "Option for printingOptions changed from normal to all\n",
      "Total time (CPU seconds):       0.00   (Wallclock seconds):       0.00\n",
      "\n"
     ]
    },
    {
     "data": {
      "text/plain": [
       "1"
      ]
     },
     "execution_count": 39,
     "metadata": {},
     "output_type": "execute_result"
    }
   ],
   "source": [
    "# solve\n",
    "\n",
    "max_x_n_y.solve()"
   ]
  },
  {
   "cell_type": "code",
   "execution_count": 40,
   "metadata": {},
   "outputs": [
    {
     "name": "stdout",
     "output_type": "stream",
     "text": [
      "x ==> 45.0\n",
      "y ==> 6.0\n"
     ]
    }
   ],
   "source": [
    "# Get variable values\n",
    "for var in max_x_n_y.variables():\n",
    "    print(var.name,\"==>\",var.varValue)"
   ]
  },
  {
   "cell_type": "code",
   "execution_count": 41,
   "metadata": {},
   "outputs": [
    {
     "data": {
      "text/plain": [
       "51.0"
      ]
     },
     "execution_count": 41,
     "metadata": {},
     "output_type": "execute_result"
    }
   ],
   "source": [
    "pulp.value(max_x_n_y.objective)"
   ]
  },
  {
   "cell_type": "markdown",
   "metadata": {},
   "source": [
    "# More examples:\n",
    "\"https://github.com/Jcharis/ProgrammingTutorials/blob/master/LinearProgramming/Linear%20Programming%20in%20Python%20with%20Examples.ipynb\""
   ]
  },
  {
   "cell_type": "markdown",
   "metadata": {},
   "source": [
    "https://www.youtube.com/watch?v=ThKUxygs0IM&t=948s"
   ]
  },
  {
   "cell_type": "markdown",
   "metadata": {},
   "source": [
    "https://coin-or.github.io/pulp/CaseStudies/a_blending_problem.html"
   ]
  },
  {
   "cell_type": "markdown",
   "metadata": {},
   "source": [
    "# A Blending Problem"
   ]
  },
  {
   "cell_type": "code",
   "execution_count": 58,
   "metadata": {},
   "outputs": [],
   "source": [
    "food = [\"chicken\", \"beef\", \"mutton\", \"rice\", \"wheat\", \"gel\"]"
   ]
  },
  {
   "cell_type": "code",
   "execution_count": 64,
   "metadata": {},
   "outputs": [],
   "source": [
    "cost_per_gm = [0.013, 0.008, 0.010, 0.002, 0.005, 0.001]"
   ]
  },
  {
   "cell_type": "code",
   "execution_count": 65,
   "metadata": {},
   "outputs": [
    {
     "name": "stdout",
     "output_type": "stream",
     "text": [
      "{'chicken': 0.013, 'beef': 0.008, 'mutton': 0.01, 'rice': 0.002, 'wheat': 0.005, 'gel': 0.001}\n"
     ]
    }
   ],
   "source": [
    "food_cost = {}\n",
    "for i in range(len(food)):\n",
    "        food_cost[food[i]] = cost_per_gm[i]\n",
    "print(food_cost)"
   ]
  },
  {
   "cell_type": "code",
   "execution_count": 66,
   "metadata": {},
   "outputs": [],
   "source": [
    "ing_per_gram = [\n",
    "    # Proten, Fat, Fibre, Salt\n",
    "    [0.100, 0.080, 0.001, 0.002], #Chicken\n",
    "    [0.200, 0.100, 0.005, 0.005], #Beef\n",
    "    [0.150, 0.110, 0.003, 0.007], #Mutton\n",
    "    [0.000, 0.010, 0.100, 0.002], #Rice\n",
    "    [0.040, 0.010, 0.150, 0.008], #Wheat\n",
    "    [0.000, 0.000, 0.000, 0.000] #Gel\n",
    "]"
   ]
  },
  {
   "cell_type": "code",
   "execution_count": 54,
   "metadata": {},
   "outputs": [],
   "source": [
    "# Decision variables: Assuming only chicken and beef are to be considered"
   ]
  },
  {
   "cell_type": "code",
   "execution_count": 76,
   "metadata": {},
   "outputs": [],
   "source": [
    "x1 = pulp.LpVariable(\"Chicken\", lowBound=0, upBound=100)\n",
    "x2 = pulp.LpVariable(\"Beef\", lowBound=0, upBound=100)"
   ]
  },
  {
   "cell_type": "code",
   "execution_count": 56,
   "metadata": {},
   "outputs": [],
   "source": [
    "# objective : Minimize cost"
   ]
  },
  {
   "cell_type": "code",
   "execution_count": 77,
   "metadata": {},
   "outputs": [],
   "source": [
    "min_cost = pulp.LpProblem(\"Minimum_Cost\", pulp.LpMinimize)\n",
    "min_cost += 0.013*x1 + 0.008*x2"
   ]
  },
  {
   "cell_type": "code",
   "execution_count": 67,
   "metadata": {},
   "outputs": [],
   "source": [
    "# consraints"
   ]
  },
  {
   "cell_type": "code",
   "execution_count": 78,
   "metadata": {},
   "outputs": [],
   "source": [
    "min_cost += x1 + x2 == 100.0  # can should == 100 grams\n",
    "\n",
    "min_cost += 0.1*x1 + 0.2*x2 >= 8.0  # protien should be >= 8gms\n",
    "\n",
    "min_cost += 0.08*x1 + 0.1*x2 >= 6.0  # fat should be >= 6gms\n",
    "\n",
    "min_cost += 0.001*x1 + 0.005*x2 <= 2.0  # fibre should be <= 2gms\n",
    "\n",
    "min_cost += 0.002*x1 + 0.005*x2 <= 0.4  # salt should be <= 0.4gms"
   ]
  },
  {
   "cell_type": "code",
   "execution_count": 79,
   "metadata": {},
   "outputs": [
    {
     "name": "stdout",
     "output_type": "stream",
     "text": [
      "Minimum_Cost:\n",
      "MINIMIZE\n",
      "0.008*Beef + 0.013*Chicken + 0.0\n",
      "SUBJECT TO\n",
      "_C1: Beef + Chicken = 100\n",
      "\n",
      "_C2: 0.2 Beef + 0.1 Chicken >= 8\n",
      "\n",
      "_C3: 0.1 Beef + 0.08 Chicken >= 6\n",
      "\n",
      "_C4: 0.005 Beef + 0.001 Chicken <= 2\n",
      "\n",
      "_C5: 0.005 Beef + 0.002 Chicken <= 0.4\n",
      "\n",
      "VARIABLES\n",
      "Beef <= 100 Continuous\n",
      "Chicken <= 100 Continuous\n",
      "\n"
     ]
    }
   ],
   "source": [
    "print(min_cost)"
   ]
  },
  {
   "cell_type": "code",
   "execution_count": 80,
   "metadata": {
    "tags": []
   },
   "outputs": [
    {
     "name": "stdout",
     "output_type": "stream",
     "text": [
      "Welcome to the CBC MILP Solver \n",
      "Version: 2.10.3 \n",
      "Build Date: Dec 15 2019 \n",
      "\n",
      "command line - /Users/a0k00qb/opt/miniconda3/lib/python3.8/site-packages/pulp/apis/../solverdir/cbc/osx/64/cbc /var/folders/kj/t0cqtl5d6bq_klpskm5q26_m0000gp/T/12595f9ef2624204b4efbddc9995729c-pulp.mps timeMode elapsed branch printingOptions all solution /var/folders/kj/t0cqtl5d6bq_klpskm5q26_m0000gp/T/12595f9ef2624204b4efbddc9995729c-pulp.sol (default strategy 1)\n",
      "At line 2 NAME          MODEL\n",
      "At line 3 ROWS\n",
      "At line 10 COLUMNS\n",
      "At line 23 RHS\n",
      "At line 29 BOUNDS\n",
      "At line 32 ENDATA\n",
      "Problem MODEL has 5 rows, 2 columns and 10 elements\n",
      "Coin0008I MODEL read with 0 errors\n",
      "Option for timeMode changed from cpu to elapsed\n",
      "Presolve 0 (-5) rows, 0 (-2) columns and 0 (-10) elements\n",
      "Empty problem - 0 rows, 0 columns and 0 elements\n",
      "Optimal - objective value 0.96666667\n",
      "After Postsolve, objective 0.96666667, infeasibilities - dual 0 (0), primal 0 (0)\n",
      "Optimal objective 0.9666666667 - 0 iterations time 0.002, Presolve 0.00\n",
      "Option for printingOptions changed from normal to all\n",
      "Total time (CPU seconds):       0.00   (Wallclock seconds):       0.00\n",
      "\n",
      "Beef ==> 66.666667\n",
      "Chicken ==> 33.333333\n",
      "0.966666665\n"
     ]
    }
   ],
   "source": [
    "# solve\n",
    "min_cost.solve()\n",
    "\n",
    "# Get variable values\n",
    "for var in min_cost.variables():\n",
    "    print(var.name,\"==>\",var.varValue)\n",
    "    \n",
    "print(pulp.value(min_cost.objective))"
   ]
  },
  {
   "cell_type": "code",
   "execution_count": 81,
   "metadata": {},
   "outputs": [
    {
     "data": {
      "text/plain": [
       "[Beef, Chicken]"
      ]
     },
     "execution_count": 81,
     "metadata": {},
     "output_type": "execute_result"
    }
   ],
   "source": [
    "min_cost.writeLP(\"WhiskasModel.lp\")"
   ]
  },
  {
   "cell_type": "code",
   "execution_count": 83,
   "metadata": {},
   "outputs": [
    {
     "data": {
      "text/plain": [
       "0.1"
      ]
     },
     "execution_count": 83,
     "metadata": {},
     "output_type": "execute_result"
    }
   ],
   "source": [
    "ing_per_gram[1][1]"
   ]
  },
  {
   "cell_type": "code",
   "execution_count": 97,
   "metadata": {},
   "outputs": [
    {
     "data": {
      "text/plain": [
       "{'chicken': 0.1,\n",
       " 'beef': 0.2,\n",
       " 'mutton': 0.15,\n",
       " 'rice': 0.0,\n",
       " 'wheat': 0.04,\n",
       " 'gel': 0.0}"
      ]
     },
     "execution_count": 97,
     "metadata": {},
     "output_type": "execute_result"
    }
   ],
   "source": [
    "proteinPercent = {}\n",
    "for i in range(len(food)):\n",
    "        proteinPercent[food[i]] = ing_per_gram[i][0]\n",
    "        \n",
    "proteinPercent"
   ]
  },
  {
   "cell_type": "code",
   "execution_count": 98,
   "metadata": {},
   "outputs": [
    {
     "data": {
      "text/plain": [
       "{'chicken': 0.08,\n",
       " 'beef': 0.1,\n",
       " 'mutton': 0.11,\n",
       " 'rice': 0.01,\n",
       " 'wheat': 0.01,\n",
       " 'gel': 0.0}"
      ]
     },
     "execution_count": 98,
     "metadata": {},
     "output_type": "execute_result"
    }
   ],
   "source": [
    "fatPercent = {}\n",
    "for i in range(len(food)):\n",
    "        fatPercent[food[i]] = ing_per_gram[i][1]\n",
    "        \n",
    "fatPercent"
   ]
  },
  {
   "cell_type": "code",
   "execution_count": 122,
   "metadata": {},
   "outputs": [
    {
     "data": {
      "text/plain": [
       "{'chicken': 0.001,\n",
       " 'beef': 0.005,\n",
       " 'mutton': 0.003,\n",
       " 'rice': 0.1,\n",
       " 'wheat': 0.15,\n",
       " 'gel': 0.0}"
      ]
     },
     "execution_count": 122,
     "metadata": {},
     "output_type": "execute_result"
    }
   ],
   "source": [
    "fibrePercent = {}\n",
    "for i in range(len(food)):\n",
    "        fibrePercent[food[i]] = ing_per_gram[i][2]\n",
    "        \n",
    "fibrePercent"
   ]
  },
  {
   "cell_type": "code",
   "execution_count": 100,
   "metadata": {},
   "outputs": [
    {
     "data": {
      "text/plain": [
       "{'chicken': 0.002,\n",
       " 'beef': 0.005,\n",
       " 'mutton': 0.007,\n",
       " 'rice': 0.002,\n",
       " 'wheat': 0.008,\n",
       " 'gel': 0.0}"
      ]
     },
     "execution_count": 100,
     "metadata": {},
     "output_type": "execute_result"
    }
   ],
   "source": [
    "saltPercent = {}\n",
    "for i in range(len(food)):\n",
    "        saltPercent[food[i]] = ing_per_gram[i][3]\n",
    "        \n",
    "saltPercent"
   ]
  },
  {
   "cell_type": "code",
   "execution_count": 133,
   "metadata": {},
   "outputs": [],
   "source": [
    "# Define Variables : Using Dicts\n",
    "\n",
    "food_vars = pulp.LpVariable.dicts(\"Food_Vars\", food, lowBound = 0, upBound = 100)"
   ]
  },
  {
   "cell_type": "code",
   "execution_count": 134,
   "metadata": {
    "tags": []
   },
   "outputs": [],
   "source": [
    "# Obective func\n",
    "\n",
    "prob = pulp.LpProblem(\"Minimum_Cost\", LpMinimize)"
   ]
  },
  {
   "cell_type": "code",
   "execution_count": 135,
   "metadata": {},
   "outputs": [
    {
     "data": {
      "text/plain": [
       "0.008*Food_Vars_beef + 0.013*Food_Vars_chicken + 0.001*Food_Vars_gel + 0.01*Food_Vars_mutton + 0.002*Food_Vars_rice + 0.005*Food_Vars_wheat + 0.0"
      ]
     },
     "execution_count": 135,
     "metadata": {},
     "output_type": "execute_result"
    }
   ],
   "source": [
    "obj = \"\"\n",
    "\n",
    "for f in food:\n",
    "    obj += food_cost[f] * food_vars[f]\n",
    "\n",
    "obj"
   ]
  },
  {
   "cell_type": "code",
   "execution_count": 136,
   "metadata": {},
   "outputs": [],
   "source": [
    "prob += obj, \"Total_Cost\""
   ]
  },
  {
   "cell_type": "code",
   "execution_count": 137,
   "metadata": {},
   "outputs": [
    {
     "data": {
      "text/plain": [
       "0.2*Food_Vars_beef + 0.1*Food_Vars_chicken + 0.15*Food_Vars_mutton + 0.04*Food_Vars_wheat + 0.0"
      ]
     },
     "execution_count": 137,
     "metadata": {},
     "output_type": "execute_result"
    }
   ],
   "source": [
    "# Define Constratints\n",
    "\n",
    "protein = \"\"\n",
    "for f in food:\n",
    "    protein += proteinPercent[f] * food_vars[f]\n",
    "protein"
   ]
  },
  {
   "cell_type": "code",
   "execution_count": 138,
   "metadata": {},
   "outputs": [
    {
     "data": {
      "text/plain": [
       "0.1*Food_Vars_beef + 0.08*Food_Vars_chicken + 0.11*Food_Vars_mutton + 0.01*Food_Vars_rice + 0.01*Food_Vars_wheat + 0.0"
      ]
     },
     "execution_count": 138,
     "metadata": {},
     "output_type": "execute_result"
    }
   ],
   "source": [
    "fat = \"\"\n",
    "for f in food:\n",
    "    fat += fatPercent[f] * food_vars[f]\n",
    "fat"
   ]
  },
  {
   "cell_type": "code",
   "execution_count": 139,
   "metadata": {},
   "outputs": [
    {
     "data": {
      "text/plain": [
       "0.005*Food_Vars_beef + 0.001*Food_Vars_chicken + 0.003*Food_Vars_mutton + 0.1*Food_Vars_rice + 0.15*Food_Vars_wheat + 0.0"
      ]
     },
     "execution_count": 139,
     "metadata": {},
     "output_type": "execute_result"
    }
   ],
   "source": [
    "fibre = \"\"\n",
    "for f in food:\n",
    "    fibre += fibrePercent[f] * food_vars[f]\n",
    "fibre"
   ]
  },
  {
   "cell_type": "code",
   "execution_count": 140,
   "metadata": {},
   "outputs": [
    {
     "data": {
      "text/plain": [
       "0.005*Food_Vars_beef + 0.002*Food_Vars_chicken + 0.007*Food_Vars_mutton + 0.002*Food_Vars_rice + 0.008*Food_Vars_wheat + 0.0"
      ]
     },
     "execution_count": 140,
     "metadata": {},
     "output_type": "execute_result"
    }
   ],
   "source": [
    "salt = \"\"\n",
    "for f in food:\n",
    "    salt += saltPercent[f] * food_vars[f]\n",
    "salt"
   ]
  },
  {
   "cell_type": "code",
   "execution_count": 141,
   "metadata": {},
   "outputs": [
    {
     "data": {
      "text/plain": [
       "1*Food_Vars_beef + 1*Food_Vars_chicken + 1*Food_Vars_gel + 1*Food_Vars_mutton + 1*Food_Vars_rice + 1*Food_Vars_wheat + 0"
      ]
     },
     "execution_count": 141,
     "metadata": {},
     "output_type": "execute_result"
    }
   ],
   "source": [
    "cansize = \"\"\n",
    "for f in food:\n",
    "    cansize += food_vars[f]\n",
    "cansize"
   ]
  },
  {
   "cell_type": "code",
   "execution_count": 142,
   "metadata": {},
   "outputs": [],
   "source": [
    "# define constraints\n",
    "\n",
    "prob += cansize == 100.0, \"CanSize\"\n",
    "\n",
    "prob += protein >= 8.0, \"Protein\"  # protien should be >= 8gms\n",
    "\n",
    "prob += fat >= 6.0, \"Fat\"  # fat should be >= 6gms\n",
    "\n",
    "prob += fibre <= 2.0, \"Fibre\"  # fibre should be <= 2gms\n",
    "\n",
    "prob += salt <= 0.4, \"Salt\"  # salt should be <= 0.4gms"
   ]
  },
  {
   "cell_type": "code",
   "execution_count": 143,
   "metadata": {},
   "outputs": [
    {
     "name": "stdout",
     "output_type": "stream",
     "text": [
      "Minimum_Cost:\n",
      "MINIMIZE\n",
      "0.008*Food_Vars_beef + 0.013*Food_Vars_chicken + 0.001*Food_Vars_gel + 0.01*Food_Vars_mutton + 0.002*Food_Vars_rice + 0.005*Food_Vars_wheat + 0.0\n",
      "SUBJECT TO\n",
      "CanSize: Food_Vars_beef + Food_Vars_chicken + Food_Vars_gel + Food_Vars_mutton\n",
      " + Food_Vars_rice + Food_Vars_wheat = 100\n",
      "\n",
      "Protein: 0.2 Food_Vars_beef + 0.1 Food_Vars_chicken + 0.15 Food_Vars_mutton\n",
      " + 0.04 Food_Vars_wheat >= 8\n",
      "\n",
      "Fat: 0.1 Food_Vars_beef + 0.08 Food_Vars_chicken + 0.11 Food_Vars_mutton\n",
      " + 0.01 Food_Vars_rice + 0.01 Food_Vars_wheat >= 6\n",
      "\n",
      "Fibre: 0.005 Food_Vars_beef + 0.001 Food_Vars_chicken + 0.003 Food_Vars_mutton\n",
      " + 0.1 Food_Vars_rice + 0.15 Food_Vars_wheat <= 2\n",
      "\n",
      "Salt: 0.005 Food_Vars_beef + 0.002 Food_Vars_chicken + 0.007 Food_Vars_mutton\n",
      " + 0.002 Food_Vars_rice + 0.008 Food_Vars_wheat <= 0.4\n",
      "\n",
      "VARIABLES\n",
      "Food_Vars_beef <= 100 Continuous\n",
      "Food_Vars_chicken <= 100 Continuous\n",
      "Food_Vars_gel <= 100 Continuous\n",
      "Food_Vars_mutton <= 100 Continuous\n",
      "Food_Vars_rice <= 100 Continuous\n",
      "Food_Vars_wheat <= 100 Continuous\n",
      "\n"
     ]
    }
   ],
   "source": [
    "print(prob)"
   ]
  },
  {
   "cell_type": "code",
   "execution_count": 144,
   "metadata": {},
   "outputs": [
    {
     "name": "stdout",
     "output_type": "stream",
     "text": [
      "Welcome to the CBC MILP Solver \n",
      "Version: 2.10.3 \n",
      "Build Date: Dec 15 2019 \n",
      "\n",
      "command line - /Users/a0k00qb/opt/miniconda3/lib/python3.8/site-packages/pulp/apis/../solverdir/cbc/osx/64/cbc /var/folders/kj/t0cqtl5d6bq_klpskm5q26_m0000gp/T/12d8d891ad584135a9a105bb165911ce-pulp.mps timeMode elapsed branch printingOptions all solution /var/folders/kj/t0cqtl5d6bq_klpskm5q26_m0000gp/T/12d8d891ad584135a9a105bb165911ce-pulp.sol (default strategy 1)\n",
      "At line 2 NAME          MODEL\n",
      "At line 3 ROWS\n",
      "At line 10 COLUMNS\n",
      "At line 42 RHS\n",
      "At line 48 BOUNDS\n",
      "At line 55 ENDATA\n",
      "Problem MODEL has 5 rows, 6 columns and 25 elements\n",
      "Coin0008I MODEL read with 0 errors\n",
      "Option for timeMode changed from cpu to elapsed\n",
      "Presolve 5 (0) rows, 6 (0) columns and 25 (0) elements\n",
      "0  Obj 0 Primal inf 405.05674 (3)\n",
      "2  Obj 0.52\n",
      "Optimal - objective value 0.52\n",
      "Optimal objective 0.52 - 2 iterations time 0.002\n",
      "Option for printingOptions changed from normal to all\n",
      "Total time (CPU seconds):       0.00   (Wallclock seconds):       0.00\n",
      "\n",
      "Food_Vars_beef ==> 60.0\n",
      "Food_Vars_chicken ==> 0.0\n",
      "Food_Vars_gel ==> 40.0\n",
      "Food_Vars_mutton ==> 0.0\n",
      "Food_Vars_rice ==> 0.0\n",
      "Food_Vars_wheat ==> 0.0\n",
      "0.52\n"
     ]
    }
   ],
   "source": [
    "# solve\n",
    "prob.solve()\n",
    "\n",
    "# Get variable values\n",
    "for var in prob.variables():\n",
    "    print(var.name,\"==>\",var.varValue)\n",
    "    \n",
    "print(pulp.value(prob.objective))"
   ]
  },
  {
   "cell_type": "markdown",
   "metadata": {},
   "source": [
    "# Transportation Problem"
   ]
  },
  {
   "cell_type": "code",
   "execution_count": 173,
   "metadata": {},
   "outputs": [
    {
     "data": {
      "text/plain": [
       "{'1': 500, '2': 900, '3': 1800, '4': 200, '5': 700}"
      ]
     },
     "execution_count": 173,
     "metadata": {},
     "output_type": "execute_result"
    }
   ],
   "source": [
    "bars = [\"1\", \"2\", \"3\", \"4\", \"5\"]\n",
    "bars_demands = [500, 900, 1800, 200, 700]\n",
    "\n",
    "demand = {}\n",
    "for d in range(len(bars)):\n",
    "    demand[bars[d]] = bars_demands[d]\n",
    "demand"
   ]
  },
  {
   "cell_type": "code",
   "execution_count": 174,
   "metadata": {
    "tags": []
   },
   "outputs": [
    {
     "data": {
      "text/plain": [
       "{'A': 1000, 'B': 4000}"
      ]
     },
     "execution_count": 174,
     "metadata": {},
     "output_type": "execute_result"
    }
   ],
   "source": [
    "warehouses = [\"A\", \"B\"]\n",
    "warehouses_supply = [1000, 4000]\n",
    "\n",
    "supply = {}\n",
    "for s in range(len(brew)):\n",
    "    supply[warehouses[s]] = warehouses_supply[s]\n",
    "supply"
   ]
  },
  {
   "cell_type": "code",
   "execution_count": 178,
   "metadata": {
    "tags": []
   },
   "outputs": [],
   "source": [
    "costs = [  # Bars\n",
    "    # 1 2 3 4 5\n",
    "    [2, 4, 5, 2, 1],  # A   Brews\n",
    "    [3, 1, 3, 2, 3],  # B\n",
    "]"
   ]
  },
  {
   "cell_type": "code",
   "execution_count": 179,
   "metadata": {
    "tags": []
   },
   "outputs": [
    {
     "data": {
      "text/plain": [
       "defaultdict(<function pulp.utilities.__makeDict.<locals>.<lambda>()>,\n",
       "            {'A': defaultdict(<function pulp.utilities.__makeDict.<locals>.<lambda>()>,\n",
       "                         {'1': 2, '2': 4, '3': 5, '4': 2, '5': 1}),\n",
       "             'B': defaultdict(<function pulp.utilities.__makeDict.<locals>.<lambda>()>,\n",
       "                         {'1': 3, '2': 1, '3': 3, '4': 2, '5': 3})})"
      ]
     },
     "execution_count": 179,
     "metadata": {},
     "output_type": "execute_result"
    }
   ],
   "source": [
    "costs = makeDict([warehouses,bars],costs,0)\n",
    "costs"
   ]
  },
  {
   "cell_type": "code",
   "execution_count": 180,
   "metadata": {},
   "outputs": [],
   "source": [
    "# Define prob\n",
    "prob = pulp.LpProblem(\"Minimize_Cost\", LpMinimize)"
   ]
  },
  {
   "cell_type": "code",
   "execution_count": 184,
   "metadata": {},
   "outputs": [
    {
     "data": {
      "text/plain": [
       "[('A', '1'),\n",
       " ('A', '2'),\n",
       " ('A', '3'),\n",
       " ('A', '4'),\n",
       " ('A', '5'),\n",
       " ('B', '1'),\n",
       " ('B', '2'),\n",
       " ('B', '3'),\n",
       " ('B', '4'),\n",
       " ('B', '5')]"
      ]
     },
     "execution_count": 184,
     "metadata": {},
     "output_type": "execute_result"
    }
   ],
   "source": [
    "routes = []\n",
    "\n",
    "for i in warehouses:\n",
    "    for j in bars:\n",
    "        routes.append((i,j))\n",
    "        \n",
    "routes"
   ]
  },
  {
   "cell_type": "code",
   "execution_count": 201,
   "metadata": {
    "tags": []
   },
   "outputs": [],
   "source": [
    "route_vars = pulp.LpVariable.dicts(\"Route_Vars\", (warehouses, bars), lowBound = 0, cat = \"Integer\")"
   ]
  },
  {
   "cell_type": "code",
   "execution_count": 210,
   "metadata": {},
   "outputs": [
    {
     "data": {
      "text/plain": [
       "{'A': {'1': Route_Vars_A_1,\n",
       "  '2': Route_Vars_A_2,\n",
       "  '3': Route_Vars_A_3,\n",
       "  '4': Route_Vars_A_4,\n",
       "  '5': Route_Vars_A_5},\n",
       " 'B': {'1': Route_Vars_B_1,\n",
       "  '2': Route_Vars_B_2,\n",
       "  '3': Route_Vars_B_3,\n",
       "  '4': Route_Vars_B_4,\n",
       "  '5': Route_Vars_B_5}}"
      ]
     },
     "execution_count": 210,
     "metadata": {},
     "output_type": "execute_result"
    }
   ],
   "source": [
    "route_vars"
   ]
  },
  {
   "cell_type": "code",
   "execution_count": 229,
   "metadata": {},
   "outputs": [],
   "source": [
    "# Define prob\n",
    "\n",
    "prob = pulp.LpProblem(\"Minimize_Cost\", LpMinimize)"
   ]
  },
  {
   "cell_type": "code",
   "execution_count": 197,
   "metadata": {},
   "outputs": [],
   "source": [
    "# prob +=lpSum([route_vars[w][b]*costs[w][b] for (w,b) in routes])"
   ]
  },
  {
   "cell_type": "code",
   "execution_count": 233,
   "metadata": {},
   "outputs": [
    {
     "data": {
      "text/plain": [
       "Minimize_Cost:\n",
       "MINIMIZE\n",
       "2*Route_Vars_A_1 + 4*Route_Vars_A_2 + 5*Route_Vars_A_3 + 2*Route_Vars_A_4 + 1*Route_Vars_A_5 + 3*Route_Vars_B_1 + 1*Route_Vars_B_2 + 3*Route_Vars_B_3 + 2*Route_Vars_B_4 + 3*Route_Vars_B_5 + 0\n",
       "VARIABLES\n",
       "0 <= Route_Vars_A_1 Integer\n",
       "0 <= Route_Vars_A_2 Integer\n",
       "0 <= Route_Vars_A_3 Integer\n",
       "0 <= Route_Vars_A_4 Integer\n",
       "0 <= Route_Vars_A_5 Integer\n",
       "0 <= Route_Vars_B_1 Integer\n",
       "0 <= Route_Vars_B_2 Integer\n",
       "0 <= Route_Vars_B_3 Integer\n",
       "0 <= Route_Vars_B_4 Integer\n",
       "0 <= Route_Vars_B_5 Integer"
      ]
     },
     "execution_count": 233,
     "metadata": {},
     "output_type": "execute_result"
    }
   ],
   "source": [
    "prob"
   ]
  },
  {
   "cell_type": "code",
   "execution_count": 232,
   "metadata": {},
   "outputs": [],
   "source": [
    "obj=\"\"\n",
    "for i in route_vars:\n",
    "#     print(i)\n",
    "    for j in route_vars[i]:\n",
    "        obj += route_vars[i][j] * costs[i][j]\n",
    "\n",
    "prob += obj, \"Transportation Costs\""
   ]
  },
  {
   "cell_type": "code",
   "execution_count": 214,
   "metadata": {},
   "outputs": [
    {
     "data": {
      "text/plain": [
       "Route_Vars_A_1"
      ]
     },
     "execution_count": 214,
     "metadata": {},
     "output_type": "execute_result"
    }
   ],
   "source": [
    "capacity = {} \n",
    "for b in bars:\n",
    "    \n",
    "    "
   ]
  },
  {
   "cell_type": "code",
   "execution_count": 219,
   "metadata": {},
   "outputs": [
    {
     "ename": "KeyError",
     "evalue": "0",
     "output_type": "error",
     "traceback": [
      "\u001b[0;31m---------------------------------------------------------------------------\u001b[0m",
      "\u001b[0;31mKeyError\u001b[0m                                  Traceback (most recent call last)",
      "\u001b[0;32m/var/folders/kj/t0cqtl5d6bq_klpskm5q26_m0000gp/T/ipykernel_19067/3038741455.py\u001b[0m in \u001b[0;36m<module>\u001b[0;34m\u001b[0m\n\u001b[0;32m----> 1\u001b[0;31m \u001b[0mroute_vars\u001b[0m\u001b[0;34m[\u001b[0m\u001b[0;36m0\u001b[0m\u001b[0;34m]\u001b[0m\u001b[0;34m[\u001b[0m\u001b[0;34m\"1\"\u001b[0m\u001b[0;34m]\u001b[0m\u001b[0;34m\u001b[0m\u001b[0;34m\u001b[0m\u001b[0m\n\u001b[0m",
      "\u001b[0;31mKeyError\u001b[0m: 0"
     ]
    }
   ],
   "source": []
  },
  {
   "cell_type": "code",
   "execution_count": 234,
   "metadata": {},
   "outputs": [
    {
     "data": {
      "text/plain": [
       "['CHOCO_CMD',\n",
       " 'COIN',\n",
       " 'COINMP_DLL',\n",
       " 'COINMP_DLL_load_dll',\n",
       " 'COIN_CMD',\n",
       " 'CPLEX',\n",
       " 'CPLEX_CMD',\n",
       " 'CPLEX_PY',\n",
       " 'DIRNAME',\n",
       " 'EPS',\n",
       " 'FixedElasticSubProblem',\n",
       " 'FractionElasticSubProblem',\n",
       " 'GLPK',\n",
       " 'GLPK_CMD',\n",
       " 'GUROBI',\n",
       " 'GUROBI_CMD',\n",
       " 'Iterable',\n",
       " 'LpAffineExpression',\n",
       " 'LpBinary',\n",
       " 'LpCategories',\n",
       " 'LpConstraint',\n",
       " 'LpConstraintEQ',\n",
       " 'LpConstraintGE',\n",
       " 'LpConstraintLE',\n",
       " 'LpConstraintSenses',\n",
       " 'LpConstraintTypeToMps',\n",
       " 'LpConstraintVar',\n",
       " 'LpContinuous',\n",
       " 'LpCplexLPLineSize',\n",
       " 'LpElement',\n",
       " 'LpFractionConstraint',\n",
       " 'LpInteger',\n",
       " 'LpMaximize',\n",
       " 'LpMinimize',\n",
       " 'LpProblem',\n",
       " 'LpSenses',\n",
       " 'LpSolution',\n",
       " 'LpSolutionInfeasible',\n",
       " 'LpSolutionIntegerFeasible',\n",
       " 'LpSolutionNoSolutionFound',\n",
       " 'LpSolutionOptimal',\n",
       " 'LpSolutionUnbounded',\n",
       " 'LpSolver',\n",
       " 'LpSolverDefault',\n",
       " 'LpSolver_CMD',\n",
       " 'LpStatus',\n",
       " 'LpStatusInfeasible',\n",
       " 'LpStatusNotSolved',\n",
       " 'LpStatusOptimal',\n",
       " 'LpStatusToSolution',\n",
       " 'LpStatusUnbounded',\n",
       " 'LpStatusUndefined',\n",
       " 'LpVariable',\n",
       " 'MIPCL_CMD',\n",
       " 'MOSEK',\n",
       " 'OrderedDict',\n",
       " 'PULPCFGFILE',\n",
       " 'PULP_CBC_CMD',\n",
       " 'PULP_CHOCO_CMD',\n",
       " 'PYGLPK',\n",
       " 'Parser',\n",
       " 'PulpError',\n",
       " 'PulpSolverError',\n",
       " 'SCIP',\n",
       " 'SCIP_CMD',\n",
       " 'VERSION',\n",
       " 'XPRESS',\n",
       " 'YAPOSIB',\n",
       " '__builtins__',\n",
       " '__cached__',\n",
       " '__doc__',\n",
       " '__file__',\n",
       " '__loader__',\n",
       " '__name__',\n",
       " '__package__',\n",
       " '__path__',\n",
       " '__spec__',\n",
       " '__version__',\n",
       " 'allcombinations',\n",
       " 'allpermutations',\n",
       " 'apis',\n",
       " 'arch',\n",
       " 'cbc_path',\n",
       " 'choco_api',\n",
       " 'clock',\n",
       " 'coinMP_path',\n",
       " 'coin_api',\n",
       " 'collections',\n",
       " 'combination',\n",
       " 'configSolvers',\n",
       " 'config_filename',\n",
       " 'configparser',\n",
       " 'const',\n",
       " 'constants',\n",
       " 'core',\n",
       " 'cplex_api',\n",
       " 'cplex_dll_path',\n",
       " 'ctypes',\n",
       " 'ctypesArrayFill',\n",
       " 'devnull',\n",
       " 'getSolver',\n",
       " 'getSolverFromDict',\n",
       " 'getSolverFromJson',\n",
       " 'get_solver',\n",
       " 'get_solver_from_dict',\n",
       " 'get_solver_from_json',\n",
       " 'glpk',\n",
       " 'glpk_api',\n",
       " 'glpk_path',\n",
       " 'gurobi_api',\n",
       " 'gurobi_path',\n",
       " 'gurobipy',\n",
       " 'ilm_cplex_license',\n",
       " 'ilm_cplex_license_signature',\n",
       " 'initialize',\n",
       " 'io',\n",
       " 'isNumber',\n",
       " 'is_64bits',\n",
       " 'isiterable',\n",
       " 'itertools',\n",
       " 'json',\n",
       " 'listSolvers',\n",
       " 'list_solvers',\n",
       " 'log',\n",
       " 'logging',\n",
       " 'lpDot',\n",
       " 'lpSum',\n",
       " 'makeDict',\n",
       " 'maketrans',\n",
       " 'mipcl_api',\n",
       " 'mktemp',\n",
       " 'mosek_api',\n",
       " 'mps_lp',\n",
       " 'mpslp',\n",
       " 'operating_system',\n",
       " 'os',\n",
       " 'permutation',\n",
       " 'pulp',\n",
       " 'pulpTestAll',\n",
       " 'pulp_cbc_path',\n",
       " 'pulp_choco_path',\n",
       " 're',\n",
       " 'read_table',\n",
       " 'resource_clock',\n",
       " 'scip_api',\n",
       " 'scip_path',\n",
       " 'setConfigInformation',\n",
       " 'sparse',\n",
       " 'splitDict',\n",
       " 'subprocess',\n",
       " 'sys',\n",
       " 'tests',\n",
       " 'time',\n",
       " 'to_string',\n",
       " 'utilities',\n",
       " 'uuid4',\n",
       " 'value',\n",
       " 'valueOrDefault',\n",
       " 'warnings',\n",
       " 'xpress_api',\n",
       " 'yaposib']"
      ]
     },
     "execution_count": 234,
     "metadata": {},
     "output_type": "execute_result"
    }
   ],
   "source": [
    "dir(pulp)"
   ]
  },
  {
   "cell_type": "code",
   "execution_count": null,
   "metadata": {},
   "outputs": [],
   "source": []
  }
 ],
 "metadata": {
  "kernelspec": {
   "display_name": "Python 3",
   "language": "python",
   "name": "python3"
  },
  "language_info": {
   "codemirror_mode": {
    "name": "ipython",
    "version": 3
   },
   "file_extension": ".py",
   "mimetype": "text/x-python",
   "name": "python",
   "nbconvert_exporter": "python",
   "pygments_lexer": "ipython3",
   "version": "3.8.5"
  }
 },
 "nbformat": 4,
 "nbformat_minor": 5
}
